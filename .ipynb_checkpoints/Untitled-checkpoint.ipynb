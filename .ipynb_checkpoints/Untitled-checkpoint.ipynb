{
 "cells": [
  {
   "cell_type": "code",
   "execution_count": 6,
   "id": "adab27ba",
   "metadata": {},
   "outputs": [
    {
     "ename": "ModuleNotFoundError",
     "evalue": "No module named 'tensorflow'",
     "output_type": "error",
     "traceback": [
      "\u001b[1;31m---------------------------------------------------------------------------\u001b[0m",
      "\u001b[1;31mModuleNotFoundError\u001b[0m                       Traceback (most recent call last)",
      "Cell \u001b[1;32mIn[6], line 2\u001b[0m\n\u001b[0;32m      1\u001b[0m \u001b[38;5;66;03m#Set up\u001b[39;00m\n\u001b[1;32m----> 2\u001b[0m \u001b[38;5;28;01mimport\u001b[39;00m \u001b[38;5;21;01mtensorflow\u001b[39;00m \u001b[38;5;28;01mas\u001b[39;00m \u001b[38;5;21;01mtf\u001b[39;00m\n\u001b[0;32m      3\u001b[0m \u001b[38;5;28;01mimport\u001b[39;00m \u001b[38;5;21;01mpandas\u001b[39;00m \u001b[38;5;28;01mas\u001b[39;00m \u001b[38;5;21;01mpd\u001b[39;00m\n\u001b[0;32m      4\u001b[0m \u001b[38;5;28;01mimport\u001b[39;00m \u001b[38;5;21;01mmatplotlib\u001b[39;00m\u001b[38;5;21;01m.\u001b[39;00m\u001b[38;5;21;01mpyplot\u001b[39;00m \u001b[38;5;28;01mas\u001b[39;00m \u001b[38;5;21;01mplt\u001b[39;00m\n",
      "\u001b[1;31mModuleNotFoundError\u001b[0m: No module named 'tensorflow'"
     ]
    }
   ],
   "source": [
    "#Set up\n",
    "import pandas as pd\n",
    "import matplotlib.pyplot as plt\n",
    "import keras\n",
    "#pandas can be used to  process and analysis datas.\n",
    "#poltlib to datavisualization\n",
    "#keras training neuralnetwork"
   ]
  },
  {
   "cell_type": "code",
   "execution_count": 7,
   "id": "97837e35",
   "metadata": {},
   "outputs": [
    {
     "ename": "NameError",
     "evalue": "name 'tf' is not defined",
     "output_type": "error",
     "traceback": [
      "\u001b[1;31m---------------------------------------------------------------------------\u001b[0m",
      "\u001b[1;31mNameError\u001b[0m                                 Traceback (most recent call last)",
      "Cell \u001b[1;32mIn[7], line 4\u001b[0m\n\u001b[0;32m      1\u001b[0m \u001b[38;5;28;01mfrom\u001b[39;00m \u001b[38;5;21;01mzipfile\u001b[39;00m \u001b[38;5;28;01mimport\u001b[39;00m ZipFile\n\u001b[0;32m      3\u001b[0m uri \u001b[38;5;241m=\u001b[39m \u001b[38;5;124m\"\u001b[39m\u001b[38;5;124mhttps://storage.googleapis.com/tensorflow/tf-keras-datasets/jena_climate_2009_2016.csv.zip\u001b[39m\u001b[38;5;124m\"\u001b[39m\n\u001b[1;32m----> 4\u001b[0m zip_path \u001b[38;5;241m=\u001b[39m tf\u001b[38;5;241m.\u001b[39mkeras\u001b[38;5;241m.\u001b[39mutils\u001b[38;5;241m.\u001b[39mget_file(origin\u001b[38;5;241m=\u001b[39muri,fname\u001b[38;5;241m=\u001b[39m\u001b[38;5;124m\"\u001b[39m\u001b[38;5;124mjena_climate_2009_2016.cvs.zip\u001b[39m\u001b[38;5;124m\"\u001b[39m)\u001b[38;5;66;03m#相当于抓取网上的文件，并且保存到本地\u001b[39;00m\n\u001b[0;32m      5\u001b[0m zip_file \u001b[38;5;241m=\u001b[39m ZipFile(zip_path)\n\u001b[0;32m      6\u001b[0m zip_file\u001b[38;5;241m.\u001b[39mextractall()\n",
      "\u001b[1;31mNameError\u001b[0m: name 'tf' is not defined"
     ]
    }
   ],
   "source": [
    "from zipfile import ZipFile\n",
    "\n",
    "uri = \"https://storage.googleapis.com/tensorflow/tf-keras-datasets/jena_climate_2009_2016.csv.zip\"\n",
    "zip_path = tf.keras.utils.get_file(origin=uri,fname=\"jena_climate_2009_2016.cvs.zip\")#相当于抓取网上的文件，并且保存到本地\n",
    "zip_file = ZipFile(zip_path)\n",
    "zip_file.extractall()\n",
    "csv_path=\"jena_climate_2009_2016.csv\"\n",
    "\n",
    "df=pd.read_cvs(cvs_path)#in pandas that allows you to read data from a CSV (Comma-Separated Values) file into a DataFrame\n",
    "#csv file is a type of plain text file that stores tabular data in a structured format.\n",
    "\n",
    "df"
   ]
  },
  {
   "cell_type": "code",
   "execution_count": 2,
   "id": "a98dab21",
   "metadata": {
    "collapsed": true
   },
   "outputs": [
    {
     "ename": "NameError",
     "evalue": "name 'df' is not defined",
     "output_type": "error",
     "traceback": [
      "\u001b[1;31m---------------------------------------------------------------------------\u001b[0m",
      "\u001b[1;31mNameError\u001b[0m                                 Traceback (most recent call last)",
      "Cell \u001b[1;32mIn[2], line 79\u001b[0m\n\u001b[0;32m     76\u001b[0m         ax\u001b[38;5;241m.\u001b[39mlegend([titles[i]])\u001b[38;5;66;03m#创建一个标签 比如第一副图左下角那个Pressure.\u001b[39;00m\n\u001b[0;32m     77\u001b[0m     plt\u001b[38;5;241m.\u001b[39mtight_layout()\u001b[38;5;66;03m#紧凑布局\u001b[39;00m\n\u001b[1;32m---> 79\u001b[0m show_raw_visualization(df)\n",
      "\u001b[1;31mNameError\u001b[0m: name 'df' is not defined"
     ]
    }
   ],
   "source": [
    "#Raw Data Visualization\n",
    "#dew poing 露点， Vapor 蒸汽， Airtight ，密闭空间\n",
    "titles=[\n",
    "    \"Pressure\",\n",
    "    \"Temperature\",\n",
    "    \"Temperature in kelvin\",\n",
    "    \"Temperature (dew point)\",\n",
    "    \"Relative Humidity\",\n",
    "    \"Saturation vapor pressure\",\n",
    "    \"Vapor pressure\",\n",
    "    \"Vapor pressure deficit\",\n",
    "    \"Specific humdity\",\n",
    "    \"Water vapor concentration\",\n",
    "    \"Airtight\",\n",
    "    \"Wind speed\",\n",
    "    \"Maximum wind speed\",\n",
    "    \"Wind direction in degrees\",\n",
    "]\n",
    "\n",
    "feature_keys = [\n",
    "    \"p (mbar)\",\n",
    "    \"T (degC)\",\n",
    "    \"Tpot (K)\",\n",
    "    \"Tdew (degC)\",\n",
    "    \"rh (%)\",\n",
    "    \"VPmax (mbar)\",\n",
    "    \"VPact (mbar)\",\n",
    "    \"VPdef (mbar)\",\n",
    "    \"sh (g/kg)\",\n",
    "    \"H2OC (mmol/mol)\",\n",
    "    \"rho (g/m**3)\",\n",
    "    \"wv (m/s)\",\n",
    "    \"max. wv (m/s)\",\n",
    "    \"wd (deg)\",\n",
    "]\n",
    "\n",
    "colors =[\n",
    "    \"blue\",\n",
    "    \"orange\",\n",
    "    \"green\",\n",
    "    \"red\",\n",
    "    \"purple\",\n",
    "    \"brown\",\n",
    "    \"pink\",\n",
    "    \"gray\",\n",
    "    \"olive\",\n",
    "    \"cyan\",\n",
    "]\n",
    "\n",
    "data_time_key =\" Data Time\" #重点！对我们原数据里的时间进行定义。用于之后数据提取\n",
    "\n",
    "#print(titles)\n",
    "#到这里为止都和数据无关\n",
    "#print(data_time_key)\n",
    "#print(range(len(feature_keys)))\n",
    "#def 函数。定义可视化模块长什么样应该\n",
    "def show_raw_visualization(data):\n",
    "    time_data = data[data_time_key]#重点！刚才datatimekey被赋值为Data time了，这一步就是，把所有Data time的数据提取出来\n",
    "    fig,axes = plt.subplots(\n",
    "        nrows=7, ncols=2, figsize=(15,20), dpi=80, facecolor=\"w\", edgecolor=\"k\"\n",
    "    )\n",
    "    #以上创建14个空的特征值图表,空图标空矩阵肯定是被先创建出来的。\n",
    "    #下面是往里面填数据，对X轴，Y轴进行定义，因为有14个特征值，所以用for loop 一一对应\n",
    "    for i in range(len(feature_keys)): #？为什么是0到14， 那不是有15个值了吗？为什么不是0到13？\n",
    "        key=feature_keys[i]\n",
    "        c= colors[i % (len(colors))] #重点!%为求余数符号，如果i有14个 但是colors只有10个，想循环使用这10个颜色可以用这种方式！，并赋值C\n",
    "        t_data=data[key]#?这一步是把所有的带mbar单位的数据都提取出来？\n",
    "        t_data.index= time_data #!重点所有x轴都被我赋值成time_data\n",
    "        t_data.head()\n",
    "        ax = t_data.plot( #这个是pandas 库自带的绘图指令\n",
    "            ax=axes[i//2,i%2],  #举个例子比如现在i是3  那个3除2 为1行，余1为第一列\n",
    "            color = c,\n",
    "            title=\"{} - {}\".format(titles[i],key),#这是一种设立图标标题的方法，大括号就是设置空的字符串。format就是往里面填入我想引用的东西\n",
    "            rot=25,# 重点！只将index旋转25°\n",
    "        )\n",
    "        ax.legend([titles[i]])#创建一个标签 比如第一副图左下角那个Pressure.\n",
    "    plt.tight_layout()#紧凑布局\n",
    "    \n",
    "show_raw_visualization(df) #之前都在定义图表模块，就只有这行的意思是，把真实数据带入这个函数模块，等到图表\n",
    "            \n",
    "    "
   ]
  },
  {
   "cell_type": "code",
   "execution_count": null,
   "id": "dbce5c64",
   "metadata": {},
   "outputs": [],
   "source": [
    "#Data Preprocessing\n",
    "#例子里说数据集中一共有30万个数据点，是每10分钟测一次。但是没必要。直接取每小时的数据作为参考就行，所以step=6.\n",
    "#或者在之前的读取数据的时候可以直接只取每小时的数据 df=df[5::6] 也就是从5开始，之后每6个数据取一个点。df.head()\n",
    "#训练集为720个数据也就是120个小时，预测接下来的12个小时\n",
    "#将数据归一化，限制其值在[0,1] 的范围内。\n",
    "\n",
    "split_fraction = 0.715\n",
    "train_split = int(split_fraction*int(df.shape[0])) #df.shape[0],就是提取出DataFrame的行数，也就是取样点个数，可以看df的结构\n",
    "step= 6\n",
    "\n",
    "#？这个下面在定义什么？ 在定义时间框吗？\n",
    "past= 720\n",
    "future= 72\n",
    "learning_rate=0.001"
   ]
  },
  {
   "cell_type": "code",
   "execution_count": null,
   "id": "c2161f0d",
   "metadata": {},
   "outputs": [],
   "source": []
  },
  {
   "cell_type": "code",
   "execution_count": null,
   "id": "36ddb9f7",
   "metadata": {},
   "outputs": [],
   "source": []
  },
  {
   "cell_type": "code",
   "execution_count": null,
   "id": "e19ec767",
   "metadata": {},
   "outputs": [],
   "source": []
  },
  {
   "cell_type": "code",
   "execution_count": null,
   "id": "6effd7af",
   "metadata": {},
   "outputs": [],
   "source": []
  }
 ],
 "metadata": {
  "kernelspec": {
   "display_name": "Python 3 (ipykernel)",
   "language": "python",
   "name": "python3"
  },
  "language_info": {
   "codemirror_mode": {
    "name": "ipython",
    "version": 3
   },
   "file_extension": ".py",
   "mimetype": "text/x-python",
   "name": "python",
   "nbconvert_exporter": "python",
   "pygments_lexer": "ipython3",
   "version": "3.11.5"
  }
 },
 "nbformat": 4,
 "nbformat_minor": 5
}
